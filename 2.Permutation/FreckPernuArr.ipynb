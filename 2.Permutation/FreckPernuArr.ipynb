{
 "cells": [
  {
   "cell_type": "code",
   "execution_count": 4,
   "id": "9c0d2331",
   "metadata": {},
   "outputs": [],
   "source": [
    "import numpy as np\n",
    "import pandas as pd\n",
    "from random import seed\n",
    "import random"
   ]
  },
  {
   "cell_type": "code",
   "execution_count": 5,
   "id": "383259dd",
   "metadata": {},
   "outputs": [],
   "source": [
    "def randReturn(arr):\n",
    "    b =[]\n",
    "    row = len(arr)\n",
    "    col = len(arr[0]) #열\n",
    "    maxnum=(col*(col-1))/2\n",
    "    for i in range (row):\n",
    "        a = np.random.randint(0,maxnum)\n",
    "        b.append(a)\n",
    "    return b"
   ]
  },
  {
   "cell_type": "code",
   "execution_count": 7,
   "id": "145e1f9a",
   "metadata": {},
   "outputs": [
    {
     "data": {
      "text/plain": [
       "[1, 5, 4, 5]"
      ]
     },
     "execution_count": 7,
     "metadata": {},
     "output_type": "execute_result"
    }
   ],
   "source": [
    "c =[[1,2,3,4],[36,2,23,4],[6,3,2,5],[7,6,3,7]]\n",
    "\n",
    "randReturn(c)"
   ]
  },
  {
   "cell_type": "code",
   "execution_count": null,
   "id": "7338f8ac",
   "metadata": {},
   "outputs": [],
   "source": []
  }
 ],
 "metadata": {
  "kernelspec": {
   "display_name": "my_first_env",
   "language": "python",
   "name": "my_first_env"
  },
  "language_info": {
   "codemirror_mode": {
    "name": "ipython",
    "version": 3
   },
   "file_extension": ".py",
   "mimetype": "text/x-python",
   "name": "python",
   "nbconvert_exporter": "python",
   "pygments_lexer": "ipython3",
   "version": "3.7.3"
  }
 },
 "nbformat": 4,
 "nbformat_minor": 5
}
