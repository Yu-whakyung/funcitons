{
 "cells": [
  {
   "cell_type": "code",
   "execution_count": 40,
   "id": "1a0fd579",
   "metadata": {},
   "outputs": [],
   "source": [
    "import numpy as np\n",
    "import pandas as pd\n",
    "from random import seed\n",
    "import random"
   ]
  },
  {
   "cell_type": "code",
   "execution_count": 43,
   "id": "5c788cd5",
   "metadata": {},
   "outputs": [],
   "source": [
    "def CreateRangeNum(dim,num):\n",
    "    final = []\n",
    "    step = 1/dim\n",
    "\n",
    "    for i in range(num):\n",
    "        dim4=[x for x in np.arange(0,1,step)]\n",
    "        random.shuffle(dim4)\n",
    "        final.append(dim4)\n",
    "    df4_1000 = pd.DataFrame(final)\n",
    "    df4_1000.to_csv('Range_{0}_{1}.csv'.format(dim,num),index=False)"
   ]
  },
  {
   "cell_type": "code",
   "execution_count": 44,
   "id": "78cce990",
   "metadata": {},
   "outputs": [],
   "source": [
    "CreateRangeNum(2,10000)\n",
    "CreateRangeNum(4,10000)\n",
    "CreateRangeNum(8,10000)\n",
    "CreateRangeNum(16,10000)\n",
    "CreateRangeNum(20,10000)\n",
    "CreateRangeNum(30,10000)\n",
    "CreateRangeNum(40,10000)\n",
    "CreateRangeNum(50,10000)\n",
    "\n",
    "CreateRangeNum(2,50000)\n",
    "CreateRangeNum(4,50000)\n",
    "CreateRangeNum(8,50000)\n",
    "CreateRangeNum(16,50000)\n",
    "CreateRangeNum(20,50000)\n",
    "CreateRangeNum(30,50000)\n",
    "CreateRangeNum(40,50000)\n",
    "CreateRangeNum(50,50000)\n",
    "\n",
    "CreateRangeNum(2,100000)\n",
    "CreateRangeNum(4,100000)\n",
    "CreateRangeNum(8,100000)\n",
    "CreateRangeNum(16,100000)\n",
    "CreateRangeNum(20,100000)\n",
    "CreateRangeNum(30,100000)\n",
    "CreateRangeNum(40,100000)\n",
    "CreateRangeNum(50,100000)\n",
    "\n"
   ]
  },
  {
   "cell_type": "code",
   "execution_count": 45,
   "id": "890fcd61",
   "metadata": {},
   "outputs": [],
   "source": [
    "\n",
    "CreateRangeNum(4,1000)\n",
    "CreateRangeNum(8,1000)\n",
    "CreateRangeNum(16,1000)\n",
    "CreateRangeNum(20,1000)\n",
    "CreateRangeNum(30,1000)\n",
    "CreateRangeNum(40,1000)\n",
    "CreateRangeNum(50,1000)\n",
    "\n",
    "CreateRangeNum(4,30000)\n",
    "CreateRangeNum(8,30000)\n",
    "CreateRangeNum(16,30000)\n",
    "CreateRangeNum(20,30000)\n",
    "CreateRangeNum(30,30000)\n",
    "CreateRangeNum(40,30000)\n",
    "CreateRangeNum(50,30000)\n"
   ]
  },
  {
   "cell_type": "code",
   "execution_count": 46,
   "id": "f6af142e",
   "metadata": {},
   "outputs": [],
   "source": [
    "CreateRangeNum(2,1000)\n",
    "CreateRangeNum(2,30000)"
   ]
  },
  {
   "cell_type": "code",
   "execution_count": null,
   "id": "5a108756",
   "metadata": {},
   "outputs": [],
   "source": []
  }
 ],
 "metadata": {
  "kernelspec": {
   "display_name": "my_first_env",
   "language": "python",
   "name": "my_first_env"
  },
  "language_info": {
   "codemirror_mode": {
    "name": "ipython",
    "version": 3
   },
   "file_extension": ".py",
   "mimetype": "text/x-python",
   "name": "python",
   "nbconvert_exporter": "python",
   "pygments_lexer": "ipython3",
   "version": "3.7.3"
  }
 },
 "nbformat": 4,
 "nbformat_minor": 5
}
