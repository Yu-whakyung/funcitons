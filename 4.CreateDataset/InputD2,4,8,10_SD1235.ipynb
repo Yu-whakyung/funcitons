{
 "cells": [
  {
   "cell_type": "code",
   "execution_count": 1,
   "id": "ccb039e6",
   "metadata": {},
   "outputs": [],
   "source": [
    "import numpy as np\n",
    "import pandas as pd\n",
    "from random import seed\n",
    "from random import random"
   ]
  },
  {
   "cell_type": "code",
   "execution_count": 2,
   "id": "ffd86a3e",
   "metadata": {},
   "outputs": [],
   "source": [
    "np.random.seed(1234)\n",
    "inarr2 = np.random.rand(100,2)\n",
    "\n",
    "temparr2 = np.random.uniform(0,1,200)\n",
    "uniarr2 = temparr2.reshape(100,2)\n",
    "\n",
    "inarr4 = np.random.rand(100,4)\n",
    "\n",
    "temparr4 = np.random.uniform(0,1,400)\n",
    "uniarr4 = temparr4.reshape(100,4)\n",
    "\n",
    "inarr8 = np.random.rand(100,8)\n",
    "\n",
    "temparr8 = np.random.uniform(0,1,800)\n",
    "uniarr8 = temparr8.reshape(100,8)\n",
    "\n",
    "inarr10 = np.random.rand(100,10)\n",
    "\n",
    "temparr10 = np.random.uniform(0,1,1000)\n",
    "uniarr10 = temparr10.reshape(100,10)\n",
    "\n",
    "df2 = pd.DataFrame(inarr2)\n",
    "df2.to_csv('2DiRanData_SD1235.csv',index=False)\n",
    "\n",
    "du2 = pd.DataFrame(uniarr2)\n",
    "du2.to_csv('2DiUniData_SD1235.csv',index=False)\n",
    "\n",
    "\n",
    "df4 = pd.DataFrame(inarr4)\n",
    "df4.to_csv('4DiRanData_SD1235.csv',index=False)\n",
    "\n",
    "du4 = pd.DataFrame(uniarr4)\n",
    "du4.to_csv('4DiUniData_SD1235.csv',index=False)\n",
    "\n",
    "df8 = pd.DataFrame(inarr8)\n",
    "df8.to_csv('8DiRanData_SD1235.csv',index=False)\n",
    "\n",
    "du8 = pd.DataFrame(uniarr8)\n",
    "du8.to_csv('8DiUniData_SD1235.csv',index=False)\n",
    "\n",
    "df10 = pd.DataFrame(inarr10)\n",
    "df10.to_csv('10DiRanData_SD1235.csv',index=False)\n",
    "\n",
    "du10 = pd.DataFrame(uniarr10)\n",
    "du10.to_csv('10DiUniData_SD1235.csv',index=False)\n"
   ]
  },
  {
   "cell_type": "code",
   "execution_count": null,
   "id": "333f0fb2",
   "metadata": {},
   "outputs": [],
   "source": []
  }
 ],
 "metadata": {
  "kernelspec": {
   "display_name": "my_first_env",
   "language": "python",
   "name": "my_first_env"
  },
  "language_info": {
   "codemirror_mode": {
    "name": "ipython",
    "version": 3
   },
   "file_extension": ".py",
   "mimetype": "text/x-python",
   "name": "python",
   "nbconvert_exporter": "python",
   "pygments_lexer": "ipython3",
   "version": "3.7.3"
  }
 },
 "nbformat": 4,
 "nbformat_minor": 5
}
